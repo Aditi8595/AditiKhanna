{
 "cells": [
  {
   "cell_type": "markdown",
   "metadata": {
    "id": "WR9XLguTDiT6"
   },
   "source": [
    "# **Step 1** "
   ]
  },
  {
   "cell_type": "code",
   "execution_count": 1,
   "metadata": {
    "id": "SzD-MEP6LP4k"
   },
   "outputs": [],
   "source": [
    "#importing libraries\n",
    "import pandas as pd\n",
    "import numpy as np\n",
    "import matplotlib.pyplot as plt\n",
    "import matplotlib.cm as cm\n",
    "import seaborn as sns"
   ]
  },
  {
   "cell_type": "code",
   "execution_count": 2,
   "metadata": {
    "id": "0swe3DDPi2r2"
   },
   "outputs": [],
   "source": [
    "#loading dataset\n",
    "data_train=pd.read_csv('train.csv')\n",
    "data_test=pd.read_csv('test.csv')"
   ]
  },
  {
   "cell_type": "code",
   "execution_count": 3,
   "metadata": {
    "colab": {
     "base_uri": "https://localhost:8080/",
     "height": 195
    },
    "id": "uCquavshtMaE",
    "outputId": "ffd3be4b-de2e-4bf2-8f0b-f96a5fb551f9"
   },
   "outputs": [
    {
     "data": {
      "text/html": [
       "<div>\n",
       "<style scoped>\n",
       "    .dataframe tbody tr th:only-of-type {\n",
       "        vertical-align: middle;\n",
       "    }\n",
       "\n",
       "    .dataframe tbody tr th {\n",
       "        vertical-align: top;\n",
       "    }\n",
       "\n",
       "    .dataframe thead th {\n",
       "        text-align: right;\n",
       "    }\n",
       "</style>\n",
       "<table border=\"1\" class=\"dataframe\">\n",
       "  <thead>\n",
       "    <tr style=\"text-align: right;\">\n",
       "      <th></th>\n",
       "      <th>vidid</th>\n",
       "      <th>adview</th>\n",
       "      <th>views</th>\n",
       "      <th>likes</th>\n",
       "      <th>dislikes</th>\n",
       "      <th>comment</th>\n",
       "      <th>published</th>\n",
       "      <th>duration</th>\n",
       "      <th>category</th>\n",
       "    </tr>\n",
       "  </thead>\n",
       "  <tbody>\n",
       "    <tr>\n",
       "      <th>0</th>\n",
       "      <td>VID_18655</td>\n",
       "      <td>40</td>\n",
       "      <td>1031602</td>\n",
       "      <td>8523</td>\n",
       "      <td>363</td>\n",
       "      <td>1095</td>\n",
       "      <td>2016-09-14</td>\n",
       "      <td>PT7M37S</td>\n",
       "      <td>F</td>\n",
       "    </tr>\n",
       "    <tr>\n",
       "      <th>1</th>\n",
       "      <td>VID_14135</td>\n",
       "      <td>2</td>\n",
       "      <td>1707</td>\n",
       "      <td>56</td>\n",
       "      <td>2</td>\n",
       "      <td>6</td>\n",
       "      <td>2016-10-01</td>\n",
       "      <td>PT9M30S</td>\n",
       "      <td>D</td>\n",
       "    </tr>\n",
       "    <tr>\n",
       "      <th>2</th>\n",
       "      <td>VID_2187</td>\n",
       "      <td>1</td>\n",
       "      <td>2023</td>\n",
       "      <td>25</td>\n",
       "      <td>0</td>\n",
       "      <td>2</td>\n",
       "      <td>2016-07-02</td>\n",
       "      <td>PT2M16S</td>\n",
       "      <td>C</td>\n",
       "    </tr>\n",
       "    <tr>\n",
       "      <th>3</th>\n",
       "      <td>VID_23096</td>\n",
       "      <td>6</td>\n",
       "      <td>620860</td>\n",
       "      <td>777</td>\n",
       "      <td>161</td>\n",
       "      <td>153</td>\n",
       "      <td>2016-07-27</td>\n",
       "      <td>PT4M22S</td>\n",
       "      <td>H</td>\n",
       "    </tr>\n",
       "    <tr>\n",
       "      <th>4</th>\n",
       "      <td>VID_10175</td>\n",
       "      <td>1</td>\n",
       "      <td>666</td>\n",
       "      <td>1</td>\n",
       "      <td>0</td>\n",
       "      <td>0</td>\n",
       "      <td>2016-06-29</td>\n",
       "      <td>PT31S</td>\n",
       "      <td>D</td>\n",
       "    </tr>\n",
       "  </tbody>\n",
       "</table>\n",
       "</div>"
      ],
      "text/plain": [
       "       vidid  adview    views likes  ... comment   published duration category\n",
       "0  VID_18655      40  1031602  8523  ...    1095  2016-09-14  PT7M37S        F\n",
       "1  VID_14135       2     1707    56  ...       6  2016-10-01  PT9M30S        D\n",
       "2   VID_2187       1     2023    25  ...       2  2016-07-02  PT2M16S        C\n",
       "3  VID_23096       6   620860   777  ...     153  2016-07-27  PT4M22S        H\n",
       "4  VID_10175       1      666     1  ...       0  2016-06-29    PT31S        D\n",
       "\n",
       "[5 rows x 9 columns]"
      ]
     },
     "execution_count": 3,
     "metadata": {
      "tags": []
     },
     "output_type": "execute_result"
    }
   ],
   "source": [
    "data_train.head(5)"
   ]
  },
  {
   "cell_type": "code",
   "execution_count": 4,
   "metadata": {
    "colab": {
     "base_uri": "https://localhost:8080/",
     "height": 50
    },
    "id": "qhLmkDWoPKWB",
    "outputId": "f1bab4b4-1eab-404d-a00f-0610701fb818"
   },
   "outputs": [
    {
     "name": "stdout",
     "output_type": "stream",
     "text": [
      "(14999, 9)\n",
      "(8764, 8)\n"
     ]
    }
   ],
   "source": [
    "print(data_train.shape)\n",
    "print(data_test.shape)"
   ]
  },
  {
   "cell_type": "code",
   "execution_count": 5,
   "metadata": {
    "colab": {
     "base_uri": "https://localhost:8080/",
     "height": 185
    },
    "id": "VyMp3qY6NgHs",
    "outputId": "98d4aeef-5a22-43e4-d375-bb0315db8e14"
   },
   "outputs": [
    {
     "data": {
      "text/plain": [
       "vidid        object\n",
       "adview        int64\n",
       "views        object\n",
       "likes        object\n",
       "dislikes     object\n",
       "comment      object\n",
       "published    object\n",
       "duration     object\n",
       "category     object\n",
       "dtype: object"
      ]
     },
     "execution_count": 5,
     "metadata": {
      "tags": []
     },
     "output_type": "execute_result"
    }
   ],
   "source": [
    "data_train.dtypes"
   ]
  },
  {
   "cell_type": "markdown",
   "metadata": {
    "id": "K9AphU_ZEFwJ"
   },
   "source": [
    "# **Step 2,3,4**"
   ]
  },
  {
   "cell_type": "code",
   "execution_count": 6,
   "metadata": {
    "colab": {
     "base_uri": "https://localhost:8080/",
     "height": 252
    },
    "id": "cwtsduLVr0uj",
    "outputId": "21ee5479-7934-43f2-eabb-1c215a1398c3"
   },
   "outputs": [
    {
     "name": "stdout",
     "output_type": "stream",
     "text": [
      "       vidid  adview    views likes  ... comment   published duration category\n",
      "0  VID_18655      40  1031602  8523  ...    1095  2016-09-14  PT7M37S        6\n",
      "1  VID_14135       2     1707    56  ...       6  2016-10-01  PT9M30S        4\n",
      "2   VID_2187       1     2023    25  ...       2  2016-07-02  PT2M16S        3\n",
      "3  VID_23096       6   620860   777  ...     153  2016-07-27  PT4M22S        8\n",
      "4  VID_10175       1      666     1  ...       0  2016-06-29    PT31S        4\n",
      "\n",
      "[5 rows x 9 columns]\n",
      "       vidid    views likes dislikes comment   published  duration  category\n",
      "0   VID_1054   440238  6153      218    1377  2017-02-18   PT7M29S         2\n",
      "1  VID_18629  1040132  8171      340    1047  2016-06-28   PT6M29S         6\n",
      "2  VID_13967    28534    31       11       1  2014-03-10  PT37M54S         4\n",
      "3  VID_19442  1316715  2284      250     274  2010-06-05   PT9M55S         7\n",
      "4    VID_770  1893173  2519      225     116  2016-09-03    PT3M8S         2\n"
     ]
    }
   ],
   "source": [
    "category={'A': 1,'B':2,'C':3,'D':4,'E':5,'F':6,'G':7,'H':8}\n",
    "data_train[\"category\"]=data_train[\"category\"].map(category)\n",
    "data_test[\"category\"]=data_test[\"category\"].map(category)\n",
    "print(data_train.head())\n",
    "print(data_test.head())\n"
   ]
  },
  {
   "cell_type": "code",
   "execution_count": 7,
   "metadata": {
    "id": "yxmwwT1d1zy7"
   },
   "outputs": [],
   "source": [
    "#removing the 'F' character \n",
    "data_train=data_train[data_train.views!='F']\n",
    "data_train=data_train[data_train.likes!='F']\n",
    "data_train=data_train[data_train.dislikes!='F']\n",
    "data_train=data_train[data_train.comment!='F']\n",
    "\n",
    "data_test=data_test[data_test.views!='F']\n",
    "data_test=data_test[data_test.likes!='F']\n",
    "data_test=data_test[data_test.dislikes!='F']\n",
    "data_test=data_test[data_test.comment!='F']"
   ]
  },
  {
   "cell_type": "code",
   "execution_count": 8,
   "metadata": {
    "colab": {
     "base_uri": "https://localhost:8080/",
     "height": 336
    },
    "id": "Y5qA7Y5M3__z",
    "outputId": "bbd66ac2-31a2-4ec5-e366-d8de9fe1bcd3"
   },
   "outputs": [
    {
     "name": "stdout",
     "output_type": "stream",
     "text": [
      "vidid        object\n",
      "adview        int64\n",
      "views         int64\n",
      "likes         int64\n",
      "dislikes      int64\n",
      "comment       int64\n",
      "published    object\n",
      "duration     object\n",
      "category      int64\n",
      "dtype: object\n",
      "vidid        object\n",
      "views         int64\n",
      "likes         int64\n",
      "dislikes      int64\n",
      "comment       int64\n",
      "published    object\n",
      "duration     object\n",
      "category      int64\n",
      "dtype: object\n"
     ]
    }
   ],
   "source": [
    "#converting object type to numeric type\n",
    "data_train['views']=pd.to_numeric(data_train['views'])\n",
    "data_train['likes']=pd.to_numeric(data_train['likes'])\n",
    "data_train['dislikes']=pd.to_numeric(data_train['dislikes'])\n",
    "data_train['comment']=pd.to_numeric(data_train['comment'])\n",
    "data_train['adview']=pd.to_numeric(data_train['adview'])\n",
    "print(data_train.dtypes)\n",
    "\n",
    "data_test['views']=pd.to_numeric(data_test['views'])\n",
    "data_test['likes']=pd.to_numeric(data_test['likes'])\n",
    "data_test['dislikes']=pd.to_numeric(data_test['dislikes'])\n",
    "data_test['comment']=pd.to_numeric(data_test['comment'])\n",
    "print(data_test.dtypes)"
   ]
  },
  {
   "cell_type": "code",
   "execution_count": 9,
   "metadata": {
    "colab": {
     "base_uri": "https://localhost:8080/",
     "height": 252
    },
    "id": "zUvc-Pyw5ueG",
    "outputId": "4f90c864-e535-471f-c23e-460447a9b227"
   },
   "outputs": [
    {
     "name": "stdout",
     "output_type": "stream",
     "text": [
      "   vidid  adview    views  likes  ...  comment  published  duration  category\n",
      "0   5912      40  1031602   8523  ...     1095       2168      2925         6\n",
      "1   2741       2     1707     56  ...        6       2185      3040         4\n",
      "2   8138       1     2023     25  ...        2       2094      1863         3\n",
      "3   9005       6   620860    777  ...      153       2119      2546         8\n",
      "4    122       1      666      1  ...        0       2091      1963         4\n",
      "\n",
      "[5 rows x 9 columns]\n",
      "   vidid    views  likes  dislikes  comment  published  duration  category\n",
      "0    231   440238   6153       218     1377       2053      2115         2\n",
      "1   3444  1040132   8171       340     1047       1825      2055         6\n",
      "2   1593    28534     31        11        1       1009      1506         4\n",
      "3   3775  1316715   2284       250      274        116      2265         7\n",
      "4   7644  1893173   2519       225      116       1892      1625         2\n"
     ]
    }
   ],
   "source": [
    "#Encoding features like published,vidid,duration\n",
    "from sklearn.preprocessing import LabelEncoder\n",
    "data_train['vidid']=LabelEncoder().fit_transform(data_train['vidid'])\n",
    "data_train['duration']=LabelEncoder().fit_transform(data_train['duration'])\n",
    "data_train['published']=LabelEncoder().fit_transform(data_train['published'])\n",
    "print(data_train.head(5))\n",
    "\n",
    "data_test['vidid']=LabelEncoder().fit_transform(data_test['vidid'])\n",
    "data_test['duration']=LabelEncoder().fit_transform(data_test['duration'])\n",
    "data_test['published']=LabelEncoder().fit_transform(data_test['published'])\n",
    "print(data_test.head(5))"
   ]
  },
  {
   "cell_type": "code",
   "execution_count": 10,
   "metadata": {
    "colab": {
     "base_uri": "https://localhost:8080/",
     "height": 252
    },
    "id": "lQ4kas_iAXhL",
    "outputId": "d16e5db6-e63a-45ef-a4bd-e41ab5da34bc"
   },
   "outputs": [
    {
     "name": "stdout",
     "output_type": "stream",
     "text": [
      "   vidid  adview    views  likes  ...  comment  published  duration  category\n",
      "0   5912      40  1031602   8523  ...     1095       2168       457         6\n",
      "1   2741       2     1707     56  ...        6       2185       570         4\n",
      "2   8138       1     2023     25  ...        2       2094       136         3\n",
      "3   9005       6   620860    777  ...      153       2119       262         8\n",
      "4    122       1      666      1  ...        0       2091        31         4\n",
      "\n",
      "[5 rows x 9 columns]\n",
      "   vidid    views  likes  dislikes  comment  published  duration  category\n",
      "0    231   440238   6153       218     1377       2053       449         2\n",
      "1   3444  1040132   8171       340     1047       1825       389         6\n",
      "2   1593    28534     31        11        1       1009      2274         4\n",
      "3   3775  1316715   2284       250      274        116       595         7\n",
      "4   7644  1893173   2519       225      116       1892       188         2\n"
     ]
    }
   ],
   "source": [
    "# Converting Time into Sec \n",
    "import datetime\n",
    "import time\n",
    "\n",
    "def checki(x):\n",
    "  y = x[2:]\n",
    "  h = ''\n",
    "  m = ''\n",
    "  s = ''\n",
    "  mm = ''\n",
    "  P = ['H','M','S']\n",
    "  for i in y:\n",
    "    if i not in P:\n",
    "      mm+=i\n",
    "    else:\n",
    "      if(i==\"H\"):\n",
    "        h = mm\n",
    "        mm = ''\n",
    "      elif(i == \"M\"):\n",
    "        m = mm\n",
    "        mm = ''\n",
    "      else:\n",
    "        s = mm\n",
    "        mm = ''\n",
    "  if(h==''):\n",
    "    h = '00'\n",
    "  if(m == ''):\n",
    "    m = '00'\n",
    "  if(s==''):\n",
    "    s='00'\n",
    "  bp = h+':'+m+':'+s\n",
    "  return bp\n",
    "\n",
    "train=pd.read_csv(\"train.csv\")\n",
    "test=pd.read_csv(\"test.csv\")\n",
    "tr = pd.read_csv(\"train.csv\")[\"duration\"]\n",
    "te=pd.read_csv(\"test.csv\")[\"duration\"]\n",
    "timetr = tr.apply(checki)\n",
    "timete=te.apply(checki)\n",
    "\n",
    "def func_sec(time_string):\n",
    "  h, m, s = time_string.split(':')\n",
    "  return int(h) * 3600 + int(m) * 60 + int(s)\n",
    "\n",
    "time1=timetr.apply(func_sec)\n",
    "time2=timete.apply(func_sec)\n",
    "\n",
    "data_train[\"duration\"]=time1\n",
    "data_test[\"duration\"]=time2\n",
    "print(data_train.head())\n",
    "print(data_test.head())"
   ]
  },
  {
   "cell_type": "code",
   "execution_count": 11,
   "metadata": {
    "colab": {
     "base_uri": "https://localhost:8080/",
     "height": 282
    },
    "id": "_eJwWoFfDdKw",
    "outputId": "0d1c8d94-1330-42a2-af07-36e00e887773"
   },
   "outputs": [
    {
     "data": {
      "text/plain": [
       "<function matplotlib.pyplot.show>"
      ]
     },
     "execution_count": 11,
     "metadata": {
      "tags": []
     },
     "output_type": "execute_result"
    },
    {
     "data": {
      "image/png": "[encoded data removed]",
      "text/plain": [
       "<Figure size 432x288 with 1 Axes>"
      ]
     },
     "metadata": {
      "needs_background": "light",
      "tags": []
     },
     "output_type": "display_data"
    }
   ],
   "source": [
    "# Visualization\n",
    "# Histogram\n",
    "plt.hist(data_train['category'])\n",
    "plt.show\n"
   ]
  },
  {
   "cell_type": "code",
   "execution_count": 12,
   "metadata": {
    "colab": {
     "base_uri": "https://localhost:8080/",
     "height": 276
    },
    "id": "djbWlSDMMBEw",
    "outputId": "e490dc79-e467-4849-dbea-8cebde6339d9"
   },
   "outputs": [
    {
     "data": {
      "image/png": "[encoded data removed]",
      "text/plain": [
       "<Figure size 432x288 with 1 Axes>"
      ]
     },
     "metadata": {
      "needs_background": "light",
      "tags": []
     },
     "output_type": "display_data"
    }
   ],
   "source": [
    "# Line Graph\n",
    "plt.plot(data_train['adview'])\n",
    "plt.show()"
   ]
  },
  {
   "cell_type": "code",
   "execution_count": 13,
   "metadata": {
    "colab": {
     "base_uri": "https://localhost:8080/",
     "height": 293
    },
    "id": "1eiCj4vgMx5M",
    "outputId": "db54d7df-2cba-438f-bf65-a9bbf93fc07b"
   },
   "outputs": [
    {
     "data": {
      "text/plain": [
       "<function matplotlib.pyplot.show>"
      ]
     },
     "execution_count": 13,
     "metadata": {
      "tags": []
     },
     "output_type": "execute_result"
    },
    {
     "data": {
      "image/png": "[encoded data removed]",
      "text/plain": [
       "<Figure size 432x288 with 1 Axes>"
      ]
     },
     "metadata": {
      "needs_background": "light",
      "tags": []
     },
     "output_type": "display_data"
    }
   ],
   "source": [
    "# Scattered Graph\n",
    "plt.scatter(data_train['likes'],data_train['adview'])\n",
    "plt.show"
   ]
  },
  {
   "cell_type": "code",
   "execution_count": 14,
   "metadata": {
    "id": "6rmsAE_cNfGx"
   },
   "outputs": [],
   "source": [
    "# Removing videos with adview greater the 20,00,000 as outliers\n",
    "data_train=data_train[data_train['adview']<2000000] "
   ]
  },
  {
   "cell_type": "code",
   "execution_count": 15,
   "metadata": {
    "colab": {
     "base_uri": "https://localhost:8080/",
     "height": 293
    },
    "id": "9_TfNf7bmFqo",
    "outputId": "3fb52d82-72ee-4505-e72e-c758889e094a"
   },
   "outputs": [
    {
     "data": {
      "text/plain": [
       "<function matplotlib.pyplot.show>"
      ]
     },
     "execution_count": 15,
     "metadata": {
      "tags": []
     },
     "output_type": "execute_result"
    },
    {
     "data": {
      "image/png": "[encoded data removed]",
      "text/plain": [
       "<Figure size 432x288 with 1 Axes>"
      ]
     },
     "metadata": {
      "needs_background": "light",
      "tags": []
     },
     "output_type": "display_data"
    }
   ],
   "source": [
    "plt.plot(data_train['adview'])\n",
    "plt.show"
   ]
  },
  {
   "cell_type": "code",
   "execution_count": 16,
   "metadata": {
    "colab": {
     "base_uri": "https://localhost:8080/",
     "height": 521
    },
    "id": "gh8lTQTuMguI",
    "outputId": "16d247c7-d643-42bc-fbc4-169b0ad7c441"
   },
   "outputs": [
    {
     "data": {
      "text/plain": [
       "<function matplotlib.pyplot.show>"
      ]
     },
     "execution_count": 16,
     "metadata": {
      "tags": []
     },
     "output_type": "execute_result"
    },
    {
     "data": {
      "image/png": "[encoded data removed]",
      "text/plain": [
       "<Figure size 720x576 with 2 Axes>"
      ]
     },
     "metadata": {
      "needs_background": "light",
      "tags": []
     },
     "output_type": "display_data"
    }
   ],
   "source": [
    "# heatmap\n",
    "f,ax=plt.subplots(figsize=(10,8))\n",
    "title=\"Train Dataset Heatmap\"\n",
    "plt.title(title,fontsize=20)\n",
    "\n",
    "corr=data_train.corr()\n",
    "sns.heatmap(corr,mask=np.zeros_like(corr,dtype=np.bool),cmap=sns.hls_palette(220,10,as_cmap=True),square=True,ax=ax,annot=True)\n",
    "plt.show"
   ]
  },
  {
   "cell_type": "markdown",
   "metadata": {
    "id": "n8QPc1BQ8mMK"
   },
   "source": [
    "# **Step 5**"
   ]
  },
  {
   "cell_type": "code",
   "execution_count": 17,
   "metadata": {
    "colab": {
     "base_uri": "https://localhost:8080/",
     "height": 402
    },
    "id": "1DNBp9o8dM62",
    "outputId": "a59ee112-ac5f-4131-e1a9-1c60e2041e2f"
   },
   "outputs": [
    {
     "data": {
      "text/html": [
       "<div>\n",
       "<style scoped>\n",
       "    .dataframe tbody tr th:only-of-type {\n",
       "        vertical-align: middle;\n",
       "    }\n",
       "\n",
       "    .dataframe tbody tr th {\n",
       "        vertical-align: top;\n",
       "    }\n",
       "\n",
       "    .dataframe thead th {\n",
       "        text-align: right;\n",
       "    }\n",
       "</style>\n",
       "<table border=\"1\" class=\"dataframe\">\n",
       "  <thead>\n",
       "    <tr style=\"text-align: right;\">\n",
       "      <th></th>\n",
       "      <th>target</th>\n",
       "    </tr>\n",
       "  </thead>\n",
       "  <tbody>\n",
       "    <tr>\n",
       "      <th>0</th>\n",
       "      <td>40</td>\n",
       "    </tr>\n",
       "    <tr>\n",
       "      <th>1</th>\n",
       "      <td>2</td>\n",
       "    </tr>\n",
       "    <tr>\n",
       "      <th>2</th>\n",
       "      <td>1</td>\n",
       "    </tr>\n",
       "    <tr>\n",
       "      <th>3</th>\n",
       "      <td>6</td>\n",
       "    </tr>\n",
       "    <tr>\n",
       "      <th>4</th>\n",
       "      <td>1</td>\n",
       "    </tr>\n",
       "    <tr>\n",
       "      <th>...</th>\n",
       "      <td>...</td>\n",
       "    </tr>\n",
       "    <tr>\n",
       "      <th>14631</th>\n",
       "      <td>2</td>\n",
       "    </tr>\n",
       "    <tr>\n",
       "      <th>14632</th>\n",
       "      <td>1</td>\n",
       "    </tr>\n",
       "    <tr>\n",
       "      <th>14633</th>\n",
       "      <td>4</td>\n",
       "    </tr>\n",
       "    <tr>\n",
       "      <th>14634</th>\n",
       "      <td>1</td>\n",
       "    </tr>\n",
       "    <tr>\n",
       "      <th>14635</th>\n",
       "      <td>1</td>\n",
       "    </tr>\n",
       "  </tbody>\n",
       "</table>\n",
       "<p>14636 rows × 1 columns</p>\n",
       "</div>"
      ],
      "text/plain": [
       "       target\n",
       "0          40\n",
       "1           2\n",
       "2           1\n",
       "3           6\n",
       "4           1\n",
       "...       ...\n",
       "14631       2\n",
       "14632       1\n",
       "14633       4\n",
       "14634       1\n",
       "14635       1\n",
       "\n",
       "[14636 rows x 1 columns]"
      ]
     },
     "execution_count": 17,
     "metadata": {
      "tags": []
     },
     "output_type": "execute_result"
    }
   ],
   "source": [
    "# Spliting data\n",
    "Y_train=pd.DataFrame(data=data_train.iloc[:,1].values,columns=['target'])\n",
    "Y_train\n"
   ]
  },
  {
   "cell_type": "code",
   "execution_count": 18,
   "metadata": {
    "colab": {
     "base_uri": "https://localhost:8080/",
     "height": 218
    },
    "id": "4kXDZ1igj5LT",
    "outputId": "a12f617d-34d2-4804-9bbb-0be1bec21b44"
   },
   "outputs": [
    {
     "name": "stdout",
     "output_type": "stream",
     "text": [
      "     views  likes  dislikes  comment  published  duration  category\n",
      "0  1031602   8523       363     1095       2168       457         6\n",
      "1     1707     56         2        6       2185       570         4\n",
      "2     2023     25         0        2       2094       136         3\n",
      "3   620860    777       161      153       2119       262         8\n",
      "4      666      1         0        0       2091        31         4\n",
      "     views  likes  dislikes  comment  published  duration  category\n",
      "0   440238   6153       218     1377       2053       449         2\n",
      "1  1040132   8171       340     1047       1825       389         6\n",
      "2    28534     31        11        1       1009      2274         4\n",
      "3  1316715   2284       250      274        116       595         7\n",
      "4  1893173   2519       225      116       1892       188         2\n"
     ]
    }
   ],
   "source": [
    "data_train=data_train.drop(['adview'],axis=1)\n",
    "data_train=data_train.drop(['vidid'],axis=1)\n",
    "print(data_train.head(5))\n",
    "\n",
    "data_test=data_test.drop(['vidid'],axis=1)\n",
    "print(data_test.head(5))"
   ]
  },
  {
   "cell_type": "code",
   "execution_count": 19,
   "metadata": {
    "colab": {
     "base_uri": "https://localhost:8080/",
     "height": 402
    },
    "id": "3gqqtMBhgm1R",
    "outputId": "3d8bf3e8-74ca-431c-c364-43d434fc1920"
   },
   "outputs": [
    {
     "data": {
      "text/html": [
       "<div>\n",
       "<style scoped>\n",
       "    .dataframe tbody tr th:only-of-type {\n",
       "        vertical-align: middle;\n",
       "    }\n",
       "\n",
       "    .dataframe tbody tr th {\n",
       "        vertical-align: top;\n",
       "    }\n",
       "\n",
       "    .dataframe thead th {\n",
       "        text-align: right;\n",
       "    }\n",
       "</style>\n",
       "<table border=\"1\" class=\"dataframe\">\n",
       "  <thead>\n",
       "    <tr style=\"text-align: right;\">\n",
       "      <th></th>\n",
       "      <th>target</th>\n",
       "    </tr>\n",
       "  </thead>\n",
       "  <tbody>\n",
       "    <tr>\n",
       "      <th>13119</th>\n",
       "      <td>39</td>\n",
       "    </tr>\n",
       "    <tr>\n",
       "      <th>9293</th>\n",
       "      <td>4</td>\n",
       "    </tr>\n",
       "    <tr>\n",
       "      <th>2937</th>\n",
       "      <td>18782</td>\n",
       "    </tr>\n",
       "    <tr>\n",
       "      <th>1839</th>\n",
       "      <td>2</td>\n",
       "    </tr>\n",
       "    <tr>\n",
       "      <th>11099</th>\n",
       "      <td>20</td>\n",
       "    </tr>\n",
       "    <tr>\n",
       "      <th>...</th>\n",
       "      <td>...</td>\n",
       "    </tr>\n",
       "    <tr>\n",
       "      <th>5191</th>\n",
       "      <td>21127</td>\n",
       "    </tr>\n",
       "    <tr>\n",
       "      <th>13418</th>\n",
       "      <td>1</td>\n",
       "    </tr>\n",
       "    <tr>\n",
       "      <th>5390</th>\n",
       "      <td>1</td>\n",
       "    </tr>\n",
       "    <tr>\n",
       "      <th>860</th>\n",
       "      <td>2</td>\n",
       "    </tr>\n",
       "    <tr>\n",
       "      <th>7270</th>\n",
       "      <td>1</td>\n",
       "    </tr>\n",
       "  </tbody>\n",
       "</table>\n",
       "<p>11708 rows × 1 columns</p>\n",
       "</div>"
      ],
      "text/plain": [
       "       target\n",
       "13119      39\n",
       "9293        4\n",
       "2937    18782\n",
       "1839        2\n",
       "11099      20\n",
       "...       ...\n",
       "5191    21127\n",
       "13418       1\n",
       "5390        1\n",
       "860         2\n",
       "7270        1\n",
       "\n",
       "[11708 rows x 1 columns]"
      ]
     },
     "execution_count": 19,
     "metadata": {
      "tags": []
     },
     "output_type": "execute_result"
    }
   ],
   "source": [
    "from sklearn.model_selection import train_test_split\n",
    "X_train,X_test,y_train,y_test=train_test_split(data_train,Y_train,test_size=0.2,random_state=42)\n",
    "y_train"
   ]
  },
  {
   "cell_type": "code",
   "execution_count": 20,
   "metadata": {
    "colab": {
     "base_uri": "https://localhost:8080/",
     "height": 284
    },
    "id": "Bg1ytaxSoY7L",
    "outputId": "b6db5649-46b3-404e-aa5b-4d61e8346f13"
   },
   "outputs": [
    {
     "data": {
      "text/html": [
       "<div>\n",
       "<style scoped>\n",
       "    .dataframe tbody tr th:only-of-type {\n",
       "        vertical-align: middle;\n",
       "    }\n",
       "\n",
       "    .dataframe tbody tr th {\n",
       "        vertical-align: top;\n",
       "    }\n",
       "\n",
       "    .dataframe thead th {\n",
       "        text-align: right;\n",
       "    }\n",
       "</style>\n",
       "<table border=\"1\" class=\"dataframe\">\n",
       "  <thead>\n",
       "    <tr style=\"text-align: right;\">\n",
       "      <th></th>\n",
       "      <th>views</th>\n",
       "      <th>likes</th>\n",
       "      <th>dislikes</th>\n",
       "      <th>comment</th>\n",
       "      <th>published</th>\n",
       "      <th>duration</th>\n",
       "      <th>category</th>\n",
       "    </tr>\n",
       "  </thead>\n",
       "  <tbody>\n",
       "    <tr>\n",
       "      <th>count</th>\n",
       "      <td>1.170800e+04</td>\n",
       "      <td>11708.000000</td>\n",
       "      <td>11708.000000</td>\n",
       "      <td>11708.000000</td>\n",
       "      <td>11708.000000</td>\n",
       "      <td>11708.000000</td>\n",
       "      <td>11708.000000</td>\n",
       "    </tr>\n",
       "    <tr>\n",
       "      <th>mean</th>\n",
       "      <td>6.974161e+05</td>\n",
       "      <td>2771.122139</td>\n",
       "      <td>251.030577</td>\n",
       "      <td>418.178767</td>\n",
       "      <td>1551.810215</td>\n",
       "      <td>1048.108985</td>\n",
       "      <td>4.611548</td>\n",
       "    </tr>\n",
       "    <tr>\n",
       "      <th>std</th>\n",
       "      <td>2.582877e+06</td>\n",
       "      <td>8734.608422</td>\n",
       "      <td>965.881840</td>\n",
       "      <td>1556.703705</td>\n",
       "      <td>579.565587</td>\n",
       "      <td>2379.930309</td>\n",
       "      <td>1.579242</td>\n",
       "    </tr>\n",
       "    <tr>\n",
       "      <th>min</th>\n",
       "      <td>4.900000e+01</td>\n",
       "      <td>0.000000</td>\n",
       "      <td>0.000000</td>\n",
       "      <td>0.000000</td>\n",
       "      <td>0.000000</td>\n",
       "      <td>0.000000</td>\n",
       "      <td>1.000000</td>\n",
       "    </tr>\n",
       "    <tr>\n",
       "      <th>25%</th>\n",
       "      <td>3.133975e+04</td>\n",
       "      <td>86.000000</td>\n",
       "      <td>7.000000</td>\n",
       "      <td>7.000000</td>\n",
       "      <td>1144.000000</td>\n",
       "      <td>188.000000</td>\n",
       "      <td>4.000000</td>\n",
       "    </tr>\n",
       "    <tr>\n",
       "      <th>50%</th>\n",
       "      <td>1.609395e+05</td>\n",
       "      <td>461.000000</td>\n",
       "      <td>39.000000</td>\n",
       "      <td>46.000000</td>\n",
       "      <td>1704.000000</td>\n",
       "      <td>327.000000</td>\n",
       "      <td>4.000000</td>\n",
       "    </tr>\n",
       "    <tr>\n",
       "      <th>75%</th>\n",
       "      <td>5.842132e+05</td>\n",
       "      <td>1897.000000</td>\n",
       "      <td>170.000000</td>\n",
       "      <td>232.000000</td>\n",
       "      <td>2065.000000</td>\n",
       "      <td>726.000000</td>\n",
       "      <td>6.000000</td>\n",
       "    </tr>\n",
       "    <tr>\n",
       "      <th>max</th>\n",
       "      <td>1.380479e+08</td>\n",
       "      <td>283824.000000</td>\n",
       "      <td>49449.000000</td>\n",
       "      <td>75045.000000</td>\n",
       "      <td>2383.000000</td>\n",
       "      <td>42317.000000</td>\n",
       "      <td>8.000000</td>\n",
       "    </tr>\n",
       "  </tbody>\n",
       "</table>\n",
       "</div>"
      ],
      "text/plain": [
       "              views          likes  ...      duration      category\n",
       "count  1.170800e+04   11708.000000  ...  11708.000000  11708.000000\n",
       "mean   6.974161e+05    2771.122139  ...   1048.108985      4.611548\n",
       "std    2.582877e+06    8734.608422  ...   2379.930309      1.579242\n",
       "min    4.900000e+01       0.000000  ...      0.000000      1.000000\n",
       "25%    3.133975e+04      86.000000  ...    188.000000      4.000000\n",
       "50%    1.609395e+05     461.000000  ...    327.000000      4.000000\n",
       "75%    5.842132e+05    1897.000000  ...    726.000000      6.000000\n",
       "max    1.380479e+08  283824.000000  ...  42317.000000      8.000000\n",
       "\n",
       "[8 rows x 7 columns]"
      ]
     },
     "execution_count": 20,
     "metadata": {
      "tags": []
     },
     "output_type": "execute_result"
    }
   ],
   "source": [
    "X_train.describe()"
   ]
  },
  {
   "cell_type": "code",
   "execution_count": 21,
   "metadata": {
    "id": "lx5qCGDkm5Yb"
   },
   "outputs": [],
   "source": [
    "# Normalising Data\n",
    "from sklearn.preprocessing import MinMaxScaler\n",
    "scaler=MinMaxScaler()\n",
    "X_train=scaler.fit_transform(X_train)\n",
    "X_test=scaler.fit_transform(X_test)"
   ]
  },
  {
   "cell_type": "markdown",
   "metadata": {
    "id": "1JInZBhb9VhH"
   },
   "source": [
    "#**Step 6,7**"
   ]
  },
  {
   "cell_type": "code",
   "execution_count": 25,
   "metadata": {
    "colab": {
     "base_uri": "https://localhost:8080/",
     "height": 67
    },
    "id": "SEFXnoVtr9Zb",
    "outputId": "cf6ecdb9-29e2-4bfb-eab2-623d2e27aea5"
   },
   "outputs": [
    {
     "name": "stdout",
     "output_type": "stream",
     "text": [
      "Mean Absolute Error: 3707.378005824532\n",
      "Mean Squared Error: 835663131.1210337\n",
      "Root Mean Squared Error: 28907.83857573986\n"
     ]
    }
   ],
   "source": [
    "# Evaluation Metrics\n",
    "from sklearn import metrics\n",
    "\n",
    "def print_error(X_test, y_test, model_name):\n",
    "  prediction = model_name.predict(X_test)\n",
    "  print('Mean Absolute Error:', metrics.mean_absolute_error(y_test, prediction))\n",
    "  print('Mean Squared Error:', metrics.mean_squared_error(y_test, prediction))\n",
    "  print('Root Mean Squared Error:', np.sqrt(metrics.mean_squared_error(y_test, prediction)))\n",
    "\n",
    "\n",
    "\n",
    "# Linear Regression\n",
    "from sklearn import linear_model\n",
    "linear_regression = linear_model.LinearRegression()\n",
    "linear_regression.fit(X_train, y_train)\n",
    "print_error(X_test,y_test, linear_regression)"
   ]
  },
  {
   "cell_type": "code",
   "execution_count": 26,
   "metadata": {
    "colab": {
     "base_uri": "https://localhost:8080/",
     "height": 67
    },
    "id": "-Yjew3QotpgK",
    "outputId": "698b6307-bdd1-4cd0-f792-97c5deec98d5"
   },
   "outputs": [
    {
     "name": "stdout",
     "output_type": "stream",
     "text": [
      "Mean Absolute Error: 2785.7561475409834\n",
      "Mean Squared Error: 904880432.3551912\n",
      "Root Mean Squared Error: 30081.23056583941\n"
     ]
    }
   ],
   "source": [
    "#Decision Tree Regressor\n",
    "from sklearn.tree import DecisionTreeRegressor\n",
    "decision_tree=DecisionTreeRegressor()\n",
    "decision_tree.fit(X_train,y_train)\n",
    "print_error(X_test,y_test, decision_tree)"
   ]
  },
  {
   "cell_type": "code",
   "execution_count": 27,
   "metadata": {
    "colab": {
     "base_uri": "https://localhost:8080/",
     "height": 121
    },
    "id": "JpntvRZ1u0u6",
    "outputId": "1ecd1be7-6e7a-43ed-f242-a7104d609fbd"
   },
   "outputs": [
    {
     "name": "stderr",
     "output_type": "stream",
     "text": [
      "/usr/local/lib/python3.6/dist-packages/ipykernel_launcher.py:8: DataConversionWarning: A column-vector y was passed when a 1d array was expected. Please change the shape of y to (n_samples,), for example using ravel().\n",
      "  \n"
     ]
    },
    {
     "name": "stdout",
     "output_type": "stream",
     "text": [
      "Mean Absolute Error: 3342.2241315917217\n",
      "Mean Squared Error: 714411838.2325572\n",
      "Root Mean Squared Error: 26728.483650079314\n"
     ]
    }
   ],
   "source": [
    "# Random Forest Regressor\n",
    "from sklearn.ensemble import RandomForestRegressor\n",
    "n_estimators=200\n",
    "max_depth=25\n",
    "min_samples_split=15\n",
    "min_samples_leaf=2\n",
    "random_forest=RandomForestRegressor(n_estimators=n_estimators,max_depth=max_depth,min_samples_split=min_samples_split,min_samples_leaf=min_samples_leaf)\n",
    "random_forest.fit(X_train,y_train)\n",
    "print_error(X_test,y_test, random_forest)"
   ]
  },
  {
   "cell_type": "code",
   "execution_count": 28,
   "metadata": {
    "colab": {
     "base_uri": "https://localhost:8080/",
     "height": 121
    },
    "id": "w_VBkUbJwgNt",
    "outputId": "d952beba-68f2-499d-8657-c07b22fb33b8"
   },
   "outputs": [
    {
     "name": "stderr",
     "output_type": "stream",
     "text": [
      "/usr/local/lib/python3.6/dist-packages/sklearn/utils/validation.py:760: DataConversionWarning: A column-vector y was passed when a 1d array was expected. Please change the shape of y to (n_samples, ), for example using ravel().\n",
      "  y = column_or_1d(y, warn=True)\n"
     ]
    },
    {
     "name": "stdout",
     "output_type": "stream",
     "text": [
      "Mean Absolute Error: 1696.9438599505638\n",
      "Mean Squared Error: 833685776.029172\n",
      "Root Mean Squared Error: 28873.617300732723\n"
     ]
    }
   ],
   "source": [
    "# Support Vector Regressor\n",
    "from sklearn.svm import SVR\n",
    "supportvector_regressor=SVR()\n",
    "supportvector_regressor.fit(X_train,y_train)\n",
    "print_error(X_test,y_test, supportvector_regressor)"
   ]
  },
  {
   "cell_type": "code",
   "execution_count": 29,
   "metadata": {
    "colab": {
     "base_uri": "https://localhost:8080/",
     "height": 104
    },
    "id": "T23er7ixHvxF",
    "outputId": "d104edda-9e32-49f6-cb43-dde5fff59506"
   },
   "outputs": [
    {
     "name": "stderr",
     "output_type": "stream",
     "text": [
      "/usr/local/lib/python3.6/dist-packages/ipykernel_launcher.py:8: DataConversionWarning: A column-vector y was passed when a 1d array was expected. Please change the shape of y to (n_samples,), for example using ravel().\n",
      "  \n"
     ]
    },
    {
     "data": {
      "text/plain": [
       "array([135411.48437914, 135411.48437914, 135411.48437914, ...,\n",
       "       135411.48437914, 135411.48437914, 150112.03776813])"
      ]
     },
     "execution_count": 29,
     "metadata": {
      "tags": []
     },
     "output_type": "execute_result"
    }
   ],
   "source": [
    "#Chosing random forest regressor for making predictions\n",
    "from sklearn.ensemble import RandomForestRegressor\n",
    "n_estimators=200\n",
    "max_depth=25\n",
    "min_samples_split=15\n",
    "min_samples_leaf=2\n",
    "random_forest=RandomForestRegressor(n_estimators=n_estimators,max_depth=max_depth,min_samples_split=min_samples_split,min_samples_leaf=min_samples_leaf)\n",
    "random_forest.fit(X_train,y_train)\n",
    "forest_predictions=random_forest.predict(data_test)\n",
    "forest_predictions"
   ]
  },
  {
   "cell_type": "code",
   "execution_count": 30,
   "metadata": {
    "id": "yta1ZCUhWI4H"
   },
   "outputs": [],
   "source": [
    "#Creating Predictions_Submission.csv\n",
    "new_column = pd.DataFrame({'adview': forest_predictions})\n",
    "df=pd.DataFrame(data_test)\n",
    "final=pd.concat([df,new_column],axis=1)\n",
    "final.to_csv('Predictions_Submission.csv',index=False)"
   ]
  },
  {
   "cell_type": "markdown",
   "metadata": {
    "id": "zGKLFeab-NnB"
   },
   "source": [
    "#**Step 8**"
   ]
  },
  {
   "cell_type": "code",
   "execution_count": 31,
   "metadata": {
    "colab": {
     "base_uri": "https://localhost:8080/",
     "height": 1000
    },
    "id": "hthzC-Kux7eP",
    "outputId": "114c2bfe-d5f0-4ed2-af4c-c38abae3a607"
   },
   "outputs": [
    {
     "name": "stdout",
     "output_type": "stream",
     "text": [
      "Epoch 1/100\n",
      "366/366 [==============================] - 0s 1ms/step - loss: 767405568.0000 - mean_squared_error: 767405568.0000\n",
      "Epoch 2/100\n",
      "366/366 [==============================] - 0s 1ms/step - loss: 767400384.0000 - mean_squared_error: 767400384.0000\n",
      "Epoch 3/100\n",
      "366/366 [==============================] - 0s 1ms/step - loss: 767390336.0000 - mean_squared_error: 767390336.0000\n",
      "Epoch 4/100\n",
      "366/366 [==============================] - 0s 928us/step - loss: 767373312.0000 - mean_squared_error: 767373312.0000\n",
      "Epoch 5/100\n",
      "366/366 [==============================] - 0s 897us/step - loss: 767348800.0000 - mean_squared_error: 767348800.0000\n",
      "Epoch 6/100\n",
      "366/366 [==============================] - 0s 1ms/step - loss: 767318400.0000 - mean_squared_error: 767318400.0000\n",
      "Epoch 7/100\n",
      "366/366 [==============================] - 0s 959us/step - loss: 767279296.0000 - mean_squared_error: 767279296.0000\n",
      "Epoch 8/100\n",
      "366/366 [==============================] - 0s 925us/step - loss: 767236352.0000 - mean_squared_error: 767236352.0000\n",
      "Epoch 9/100\n",
      "366/366 [==============================] - 0s 854us/step - loss: 767185536.0000 - mean_squared_error: 767185536.0000\n",
      "Epoch 10/100\n",
      "366/366 [==============================] - 0s 901us/step - loss: 767126336.0000 - mean_squared_error: 767126336.0000\n",
      "Epoch 11/100\n",
      "366/366 [==============================] - 0s 943us/step - loss: 767059392.0000 - mean_squared_error: 767059392.0000\n",
      "Epoch 12/100\n",
      "366/366 [==============================] - 0s 878us/step - loss: 766984640.0000 - mean_squared_error: 766984640.0000\n",
      "Epoch 13/100\n",
      "366/366 [==============================] - 0s 882us/step - loss: 766906880.0000 - mean_squared_error: 766906880.0000\n",
      "Epoch 14/100\n",
      "366/366 [==============================] - 0s 875us/step - loss: 766824192.0000 - mean_squared_error: 766824192.0000\n",
      "Epoch 15/100\n",
      "366/366 [==============================] - 0s 863us/step - loss: 766733504.0000 - mean_squared_error: 766733504.0000\n",
      "Epoch 16/100\n",
      "366/366 [==============================] - 0s 889us/step - loss: 766639936.0000 - mean_squared_error: 766639936.0000\n",
      "Epoch 17/100\n",
      "366/366 [==============================] - 0s 902us/step - loss: 766542080.0000 - mean_squared_error: 766542080.0000\n",
      "Epoch 18/100\n",
      "366/366 [==============================] - 0s 875us/step - loss: 766438912.0000 - mean_squared_error: 766438912.0000\n",
      "Epoch 19/100\n",
      "366/366 [==============================] - 0s 904us/step - loss: 766332736.0000 - mean_squared_error: 766332736.0000\n",
      "Epoch 20/100\n",
      "366/366 [==============================] - 0s 875us/step - loss: 766226944.0000 - mean_squared_error: 766226944.0000\n",
      "Epoch 21/100\n",
      "366/366 [==============================] - 0s 891us/step - loss: 766120384.0000 - mean_squared_error: 766120384.0000\n",
      "Epoch 22/100\n",
      "366/366 [==============================] - 0s 911us/step - loss: 766011200.0000 - mean_squared_error: 766011200.0000\n",
      "Epoch 23/100\n",
      "366/366 [==============================] - 0s 889us/step - loss: 765902848.0000 - mean_squared_error: 765902848.0000\n",
      "Epoch 24/100\n",
      "366/366 [==============================] - 0s 872us/step - loss: 765796864.0000 - mean_squared_error: 765796864.0000\n",
      "Epoch 25/100\n",
      "366/366 [==============================] - 0s 899us/step - loss: 765690112.0000 - mean_squared_error: 765690112.0000\n",
      "Epoch 26/100\n",
      "366/366 [==============================] - 0s 899us/step - loss: 765586304.0000 - mean_squared_error: 765586304.0000\n",
      "Epoch 27/100\n",
      "366/366 [==============================] - 0s 922us/step - loss: 765488768.0000 - mean_squared_error: 765488768.0000\n",
      "Epoch 28/100\n",
      "366/366 [==============================] - 0s 949us/step - loss: 765393408.0000 - mean_squared_error: 765393408.0000\n",
      "Epoch 29/100\n",
      "366/366 [==============================] - 0s 917us/step - loss: 765300992.0000 - mean_squared_error: 765300992.0000\n",
      "Epoch 30/100\n",
      "366/366 [==============================] - 0s 882us/step - loss: 765209472.0000 - mean_squared_error: 765209472.0000\n",
      "Epoch 31/100\n",
      "366/366 [==============================] - 0s 904us/step - loss: 765118784.0000 - mean_squared_error: 765118784.0000\n",
      "Epoch 32/100\n",
      "366/366 [==============================] - 0s 879us/step - loss: 765033920.0000 - mean_squared_error: 765033920.0000\n",
      "Epoch 33/100\n",
      "366/366 [==============================] - 0s 871us/step - loss: 764954560.0000 - mean_squared_error: 764954560.0000\n",
      "Epoch 34/100\n",
      "366/366 [==============================] - 0s 887us/step - loss: 764877952.0000 - mean_squared_error: 764877952.0000\n",
      "Epoch 35/100\n",
      "366/366 [==============================] - 0s 922us/step - loss: 764804928.0000 - mean_squared_error: 764804928.0000\n",
      "Epoch 36/100\n",
      "366/366 [==============================] - 0s 905us/step - loss: 764735936.0000 - mean_squared_error: 764735936.0000\n",
      "Epoch 37/100\n",
      "366/366 [==============================] - 0s 888us/step - loss: 764670656.0000 - mean_squared_error: 764670656.0000\n",
      "Epoch 38/100\n",
      "366/366 [==============================] - 0s 951us/step - loss: 764607872.0000 - mean_squared_error: 764607872.0000\n",
      "Epoch 39/100\n",
      "366/366 [==============================] - 0s 898us/step - loss: 764549568.0000 - mean_squared_error: 764549568.0000\n",
      "Epoch 40/100\n",
      "366/366 [==============================] - 0s 905us/step - loss: 764493504.0000 - mean_squared_error: 764493504.0000\n",
      "Epoch 41/100\n",
      "366/366 [==============================] - 0s 903us/step - loss: 764441536.0000 - mean_squared_error: 764441536.0000\n",
      "Epoch 42/100\n",
      "366/366 [==============================] - 0s 894us/step - loss: 764391424.0000 - mean_squared_error: 764391424.0000\n",
      "Epoch 43/100\n",
      "366/366 [==============================] - 0s 944us/step - loss: 764347264.0000 - mean_squared_error: 764347264.0000\n",
      "Epoch 44/100\n",
      "366/366 [==============================] - 0s 930us/step - loss: 764302208.0000 - mean_squared_error: 764302208.0000\n",
      "Epoch 45/100\n",
      "366/366 [==============================] - 0s 950us/step - loss: 764261696.0000 - mean_squared_error: 764261696.0000\n",
      "Epoch 46/100\n",
      "366/366 [==============================] - 0s 945us/step - loss: 764224512.0000 - mean_squared_error: 764224512.0000\n",
      "Epoch 47/100\n",
      "366/366 [==============================] - 0s 899us/step - loss: 764188160.0000 - mean_squared_error: 764188160.0000\n",
      "Epoch 48/100\n",
      "366/366 [==============================] - 0s 885us/step - loss: 764154304.0000 - mean_squared_error: 764154304.0000\n",
      "Epoch 49/100\n",
      "366/366 [==============================] - 0s 892us/step - loss: 764121920.0000 - mean_squared_error: 764121920.0000\n",
      "Epoch 50/100\n",
      "366/366 [==============================] - 0s 1ms/step - loss: 764094336.0000 - mean_squared_error: 764094336.0000\n",
      "Epoch 51/100\n",
      "366/366 [==============================] - 0s 983us/step - loss: 764069888.0000 - mean_squared_error: 764069888.0000\n",
      "Epoch 52/100\n",
      "366/366 [==============================] - 0s 927us/step - loss: 764043392.0000 - mean_squared_error: 764043392.0000\n",
      "Epoch 53/100\n",
      "366/366 [==============================] - 0s 899us/step - loss: 764018752.0000 - mean_squared_error: 764018752.0000\n",
      "Epoch 54/100\n",
      "366/366 [==============================] - 0s 882us/step - loss: 763993920.0000 - mean_squared_error: 763993920.0000\n",
      "Epoch 55/100\n",
      "366/366 [==============================] - 0s 914us/step - loss: 763971072.0000 - mean_squared_error: 763971072.0000\n",
      "Epoch 56/100\n",
      "366/366 [==============================] - 0s 883us/step - loss: 763949568.0000 - mean_squared_error: 763949568.0000\n",
      "Epoch 57/100\n",
      "366/366 [==============================] - 0s 901us/step - loss: 763927488.0000 - mean_squared_error: 763927488.0000\n",
      "Epoch 58/100\n",
      "366/366 [==============================] - 0s 922us/step - loss: 763907968.0000 - mean_squared_error: 763907968.0000\n",
      "Epoch 59/100\n",
      "366/366 [==============================] - 0s 966us/step - loss: 763886272.0000 - mean_squared_error: 763886272.0000\n",
      "Epoch 60/100\n",
      "366/366 [==============================] - 0s 896us/step - loss: 763869952.0000 - mean_squared_error: 763869952.0000\n",
      "Epoch 61/100\n",
      "366/366 [==============================] - 0s 881us/step - loss: 763848768.0000 - mean_squared_error: 763848768.0000\n",
      "Epoch 62/100\n",
      "366/366 [==============================] - 0s 923us/step - loss: 763829248.0000 - mean_squared_error: 763829248.0000\n",
      "Epoch 63/100\n",
      "366/366 [==============================] - 0s 891us/step - loss: 763813312.0000 - mean_squared_error: 763813312.0000\n",
      "Epoch 64/100\n",
      "366/366 [==============================] - 0s 886us/step - loss: 763795840.0000 - mean_squared_error: 763795840.0000\n",
      "Epoch 65/100\n",
      "366/366 [==============================] - 0s 1ms/step - loss: 763783360.0000 - mean_squared_error: 763783360.0000\n",
      "Epoch 66/100\n",
      "366/366 [==============================] - 0s 1ms/step - loss: 763763136.0000 - mean_squared_error: 763763136.0000\n",
      "Epoch 67/100\n",
      "366/366 [==============================] - 0s 964us/step - loss: 763746304.0000 - mean_squared_error: 763746304.0000\n",
      "Epoch 68/100\n",
      "366/366 [==============================] - 0s 930us/step - loss: 763729088.0000 - mean_squared_error: 763729088.0000\n",
      "Epoch 69/100\n",
      "366/366 [==============================] - 0s 917us/step - loss: 763714560.0000 - mean_squared_error: 763714560.0000\n",
      "Epoch 70/100\n",
      "366/366 [==============================] - 0s 922us/step - loss: 763699072.0000 - mean_squared_error: 763699072.0000\n",
      "Epoch 71/100\n",
      "366/366 [==============================] - 0s 951us/step - loss: 763684288.0000 - mean_squared_error: 763684288.0000\n",
      "Epoch 72/100\n",
      "366/366 [==============================] - 0s 917us/step - loss: 763665856.0000 - mean_squared_error: 763665856.0000\n",
      "Epoch 73/100\n",
      "366/366 [==============================] - 0s 869us/step - loss: 763653440.0000 - mean_squared_error: 763653440.0000\n",
      "Epoch 74/100\n",
      "366/366 [==============================] - 0s 1ms/step - loss: 763639104.0000 - mean_squared_error: 763639104.0000\n",
      "Epoch 75/100\n",
      "366/366 [==============================] - 0s 906us/step - loss: 763622720.0000 - mean_squared_error: 763622720.0000\n",
      "Epoch 76/100\n",
      "366/366 [==============================] - 0s 914us/step - loss: 763605952.0000 - mean_squared_error: 763605952.0000\n",
      "Epoch 77/100\n",
      "366/366 [==============================] - 0s 912us/step - loss: 763592448.0000 - mean_squared_error: 763592448.0000\n",
      "Epoch 78/100\n",
      "366/366 [==============================] - 0s 895us/step - loss: 763579520.0000 - mean_squared_error: 763579520.0000\n",
      "Epoch 79/100\n",
      "366/366 [==============================] - 0s 875us/step - loss: 763563072.0000 - mean_squared_error: 763563072.0000\n",
      "Epoch 80/100\n",
      "366/366 [==============================] - 0s 919us/step - loss: 763552064.0000 - mean_squared_error: 763552064.0000\n",
      "Epoch 81/100\n",
      "366/366 [==============================] - 0s 910us/step - loss: 763535488.0000 - mean_squared_error: 763535488.0000\n",
      "Epoch 82/100\n",
      "366/366 [==============================] - 0s 894us/step - loss: 763520512.0000 - mean_squared_error: 763520512.0000\n",
      "Epoch 83/100\n",
      "366/366 [==============================] - 0s 999us/step - loss: 763506624.0000 - mean_squared_error: 763506624.0000\n",
      "Epoch 84/100\n",
      "366/366 [==============================] - 0s 915us/step - loss: 763490176.0000 - mean_squared_error: 763490176.0000\n",
      "Epoch 85/100\n",
      "366/366 [==============================] - 0s 922us/step - loss: 763474624.0000 - mean_squared_error: 763474624.0000\n",
      "Epoch 86/100\n",
      "366/366 [==============================] - 0s 932us/step - loss: 763460608.0000 - mean_squared_error: 763460608.0000\n",
      "Epoch 87/100\n",
      "366/366 [==============================] - 0s 913us/step - loss: 763446592.0000 - mean_squared_error: 763446592.0000\n",
      "Epoch 88/100\n",
      "366/366 [==============================] - 0s 918us/step - loss: 763430848.0000 - mean_squared_error: 763430848.0000\n",
      "Epoch 89/100\n",
      "366/366 [==============================] - 0s 938us/step - loss: 763416448.0000 - mean_squared_error: 763416448.0000\n",
      "Epoch 90/100\n",
      "366/366 [==============================] - 0s 906us/step - loss: 763402816.0000 - mean_squared_error: 763402816.0000\n",
      "Epoch 91/100\n",
      "366/366 [==============================] - 0s 918us/step - loss: 763388032.0000 - mean_squared_error: 763388032.0000\n",
      "Epoch 92/100\n",
      "366/366 [==============================] - 0s 939us/step - loss: 763373888.0000 - mean_squared_error: 763373888.0000\n",
      "Epoch 93/100\n",
      "366/366 [==============================] - 0s 908us/step - loss: 763359104.0000 - mean_squared_error: 763359104.0000\n",
      "Epoch 94/100\n",
      "366/366 [==============================] - 0s 887us/step - loss: 763347136.0000 - mean_squared_error: 763347136.0000\n",
      "Epoch 95/100\n",
      "366/366 [==============================] - 0s 916us/step - loss: 763332800.0000 - mean_squared_error: 763332800.0000\n",
      "Epoch 96/100\n",
      "366/366 [==============================] - 0s 938us/step - loss: 763319616.0000 - mean_squared_error: 763319616.0000\n",
      "Epoch 97/100\n",
      "366/366 [==============================] - 0s 921us/step - loss: 763299392.0000 - mean_squared_error: 763299392.0000\n",
      "Epoch 98/100\n",
      "366/366 [==============================] - 0s 977us/step - loss: 763286400.0000 - mean_squared_error: 763286400.0000\n",
      "Epoch 99/100\n",
      "366/366 [==============================] - 0s 913us/step - loss: 763276288.0000 - mean_squared_error: 763276288.0000\n",
      "Epoch 100/100\n",
      "366/366 [==============================] - 0s 903us/step - loss: 763261504.0000 - mean_squared_error: 763261504.0000\n"
     ]
    }
   ],
   "source": [
    "# Artificial Neural Networks\n",
    "import keras\n",
    "from keras.layers import Dense\n",
    "ann=keras.models.Sequential([\n",
    "                             Dense(6,activation=\"relu\",\n",
    "                             input_shape=X_train.shape[1:]),\n",
    "                             Dense(6,activation=\"relu\"),\n",
    "                             Dense(1)\n",
    "                             ])\n",
    "optimizer=keras.optimizers.Adam()\n",
    "loss=keras.losses.mean_squared_error\n",
    "ann.compile(optimizer=optimizer,loss=loss,metrics=['mean_squared_error'])\n",
    "history=ann.fit(X_train,y_train,epochs=100)\n"
   ]
  },
  {
   "cell_type": "code",
   "execution_count": 32,
   "metadata": {
    "colab": {
     "base_uri": "https://localhost:8080/",
     "height": 252
    },
    "id": "bofdTE5w1QBA",
    "outputId": "3afbf80b-479c-446c-b144-b6b6db4135f9"
   },
   "outputs": [
    {
     "name": "stdout",
     "output_type": "stream",
     "text": [
      "Model: \"sequential\"\n",
      "_________________________________________________________________\n",
      "Layer (type)                 Output Shape              Param #   \n",
      "=================================================================\n",
      "dense (Dense)                (None, 6)                 48        \n",
      "_________________________________________________________________\n",
      "dense_1 (Dense)              (None, 6)                 42        \n",
      "_________________________________________________________________\n",
      "dense_2 (Dense)              (None, 1)                 7         \n",
      "=================================================================\n",
      "Total params: 97\n",
      "Trainable params: 97\n",
      "Non-trainable params: 0\n",
      "_________________________________________________________________\n"
     ]
    }
   ],
   "source": [
    "ann.summary()"
   ]
  },
  {
   "cell_type": "code",
   "execution_count": 33,
   "metadata": {
    "colab": {
     "base_uri": "https://localhost:8080/",
     "height": 67
    },
    "id": "Ywk7S76j1fyh",
    "outputId": "c9de3810-9003-4625-9a4b-ad8d2c587a58"
   },
   "outputs": [
    {
     "name": "stdout",
     "output_type": "stream",
     "text": [
      "Mean Absolute Error: 3169.7318887080323\n",
      "Mean Squared Error: 829523531.9227574\n",
      "Root Mean Squared Error: 28801.450170481996\n"
     ]
    }
   ],
   "source": [
    "print_error(X_test,y_test, ann)"
   ]
  },
  {
   "cell_type": "markdown",
   "metadata": {
    "id": "PaH3J4dJ-Wfk"
   },
   "source": [
    "#**Step 9,10**"
   ]
  },
  {
   "cell_type": "code",
   "execution_count": 34,
   "metadata": {
    "colab": {
     "base_uri": "https://localhost:8080/",
     "height": 34
    },
    "id": "L3oDiOHg2Hd8",
    "outputId": "4f707c12-c2dc-4334-c629-27458fae4710"
   },
   "outputs": [
    {
     "data": {
      "text/plain": [
       "['randomforest_youtubeadview.pkl']"
      ]
     },
     "execution_count": 34,
     "metadata": {
      "tags": []
     },
     "output_type": "execute_result"
    }
   ],
   "source": [
    "# Saving Scikitlearn models\n",
    "import joblib\n",
    "joblib.dump(random_forest,\"randomforest_youtubeadview.pkl\")"
   ]
  },
  {
   "cell_type": "code",
   "execution_count": 35,
   "metadata": {
    "id": "cl1UajMA2hep"
   },
   "outputs": [],
   "source": [
    "# Saving keras ANN model\n",
    "ann.save(\"ann_youtubeadview.h5\")"
   ]
  }
 ],
 "metadata": {
  "colab": {
   "collapsed_sections": [],
   "name": "Aditi_Project.ipynb",
   "provenance": [],
   "toc_visible": true
  },
  "kernelspec": {
   "display_name": "Python 3",
   "language": "python",
   "name": "python3"
  },
  "language_info": {
   "codemirror_mode": {
    "name": "ipython",
    "version": 3
   },
   "file_extension": ".py",
   "mimetype": "text/x-python",
   "name": "python",
   "nbconvert_exporter": "python",
   "pygments_lexer": "ipython3",
   "version": "3.7.6"
  }
 },
 "nbformat": 4,
 "nbformat_minor": 1
}
